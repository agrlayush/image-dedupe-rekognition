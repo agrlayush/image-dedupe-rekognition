{
 "cells": [
  {
   "cell_type": "code",
   "execution_count": 1,
   "id": "f3dca07e-4bb5-43ef-a5dd-106175790c9f",
   "metadata": {
    "tags": []
   },
   "outputs": [],
   "source": [
    "import boto3\n",
    "import os\n",
    "import sys\n",
    "from botocore.exceptions import BotoCoreError, ClientError"
   ]
  },
  {
   "cell_type": "code",
   "execution_count": 2,
   "id": "3f106c96-ff36-4cac-b3b5-846baf8242d5",
   "metadata": {
    "tags": []
   },
   "outputs": [],
   "source": [
    "def list_images_in_s3(bucket_name, prefix):\n",
    "    \"\"\"List all images in the given S3 bucket and prefix.\"\"\"\n",
    "    s3_client = boto3.client(\"s3\")\n",
    "    image_list = []\n",
    "    try:\n",
    "        paginator = s3_client.get_paginator(\"list_objects_v2\")\n",
    "        for page in paginator.paginate(Bucket=bucket_name, Prefix=prefix):\n",
    "            for obj in page.get(\"Contents\", []):\n",
    "                if obj[\"Key\"].lower().endswith(('.png', '.jpg', '.jpeg')):\n",
    "                    image_list.append(obj[\"Key\"])\n",
    "    except ClientError as e:\n",
    "        print(f\"Error listing objects in S3: {e}\")\n",
    "    return image_list"
   ]
  },
  {
   "cell_type": "code",
   "execution_count": 11,
   "id": "ffd2531e-34f1-40bf-b3f8-994f03f983f5",
   "metadata": {
    "tags": []
   },
   "outputs": [],
   "source": [
    "def index_faces(collection_id, bucket_name, image_key):\n",
    "    \"\"\"Index an image in Amazon Rekognition Collection.\"\"\"\n",
    "    rekognition_client = boto3.client(\"rekognition\")\n",
    "    try:\n",
    "        response = rekognition_client.index_faces(\n",
    "            CollectionId=collection_id,\n",
    "            Image={\"S3Object\": {\"Bucket\": bucket_name, \"Name\": image_key}},\n",
    "            ExternalImageId=image_key.split(\"/\")[-1],\n",
    "            DetectionAttributes=[\"DEFAULT\"],\n",
    "            MaxFaces=1,\n",
    "            QualityFilter=\"AUTO\"\n",
    "        )\n",
    "        if response['FaceRecords']:\n",
    "            print(f\"Indexed {image_key}\")\n",
    "        else:\n",
    "            print(f\"No face detected in {image_key}\")\n",
    "    except (BotoCoreError, ClientError) as e:\n",
    "        print(f\"Error indexing image {image_key}: {e}\")"
   ]
  },
  {
   "cell_type": "code",
   "execution_count": 16,
   "id": "6cb1c459-67e5-4591-9af8-c6906b929a62",
   "metadata": {
    "tags": []
   },
   "outputs": [],
   "source": [
    "def create_collection(collection_id):\n",
    "    \"\"\"Create a Rekognition collection if it does not exist.\"\"\"\n",
    "    rekognition_client = boto3.client(\"rekognition\")\n",
    "    try:\n",
    "        rekognition_client.create_collection(CollectionId=collection_id)\n",
    "        print(f\"Collection {collection_id} created successfully.\")\n",
    "    except rekognition_client.exceptions.ResourceAlreadyExistsException:\n",
    "        print(f\"Collection {collection_id} already exists.\")\n",
    "    except (BotoCoreError, ClientError) as e:\n",
    "        print(f\"Error creating collection {collection_id}: {e}\")"
   ]
  },
  {
   "cell_type": "code",
   "execution_count": 17,
   "id": "41e58bca-3e92-431d-94ed-a497c45cf881",
   "metadata": {
    "tags": []
   },
   "outputs": [],
   "source": [
    "def process_s3_images(bucket_name, parent_prefix, collection_id):\n",
    "    \"\"\"Iterate through S3 images and index them in Rekognition.\"\"\"\n",
    "    create_collection(collection_id)\n",
    "    images = list_images_in_s3(bucket_name, parent_prefix)\n",
    "    print(f\"Found {len(images)} images. Indexing...\")\n",
    "    for image_key in images:\n",
    "        index_faces(collection_id, bucket_name, image_key)\n",
    "    print(\"Indexing complete!\")"
   ]
  },
  {
   "cell_type": "code",
   "execution_count": 18,
   "id": "08c2697a-b84d-4b95-b8ae-e79418f39b6e",
   "metadata": {
    "tags": []
   },
   "outputs": [],
   "source": [
    "def search_face(collection_id, local_image_path, bucket_name, s3_image_key):\n",
    "    \"\"\"Search for a given face in the Rekognition collection.\"\"\"\n",
    "    rekognition_client = boto3.client(\"rekognition\")\n",
    "    s3_client = boto3.client(\"s3\")\n",
    "    \n",
    "    try:\n",
    "        # Upload image to S3\n",
    "        s3_client.upload_file(local_image_path, bucket_name, s3_image_key)\n",
    "        print(f\"Uploaded {local_image_path} to s3://{bucket_name}/{s3_image_key}\")\n",
    "        \n",
    "        # Search for the face in Rekognition\n",
    "        response = rekognition_client.search_faces_by_image(\n",
    "            CollectionId=collection_id,\n",
    "            Image={\"S3Object\": {\"Bucket\": bucket_name, \"Name\": s3_image_key}},\n",
    "            MaxFaces=1,\n",
    "            FaceMatchThreshold=90\n",
    "        )\n",
    "        \n",
    "        matches = response.get(\"FaceMatches\", [])\n",
    "        if matches:\n",
    "            print(f\"Face found! Similarity: {matches[0]['Similarity']}%\")\n",
    "        else:\n",
    "            print(\"No match found.\")\n",
    "        return matches\n",
    "    except (BotoCoreError, ClientError) as e:\n",
    "        print(f\"Error searching for face: {e}\")\n",
    "        return []"
   ]
  },
  {
   "cell_type": "raw",
   "id": "508e4368-b275-405c-89d4-8c4b16186253",
   "metadata": {},
   "source": [
    "Image Source: \n",
    "https://www.twine.net/blog/facial-recognition-datasets/\n",
    "https://drive.google.com/drive/folders/1tZUcXDBeOibC6jcMCtgRRz67pzrAHeHL\n"
   ]
  },
  {
   "cell_type": "code",
   "execution_count": null,
   "id": "0c091dfe-487b-4462-864b-85a3ea77298c",
   "metadata": {
    "vscode": {
     "languageId": "raw"
    }
   },
   "outputs": [],
   "source": [
    "collection_id = \"FacesCollection\"\n",
    "bucket_name = \"your-s3-bucket-name\"\n",
    "parent_prefix = \"rekognition-dedupe/\""
   ]
  },
  {
   "cell_type": "markdown",
   "id": "d64662ab-0fca-4c96-80db-998e4cf79809",
   "metadata": {},
   "source": [
    "## Index"
   ]
  },
  {
   "cell_type": "code",
   "execution_count": null,
   "id": "3a8c9340-26c1-4997-929b-a22e986f75a2",
   "metadata": {
    "tags": []
   },
   "outputs": [],
   "source": [
    "process_s3_images(bucket_name, parent_prefix, collection_id)"
   ]
  },
  {
   "cell_type": "markdown",
   "id": "8037e29a-de4b-46a1-ac7d-91d68b7598ce",
   "metadata": {},
   "source": [
    "## Search"
   ]
  },
  {
   "cell_type": "code",
   "execution_count": null,
   "id": "82f7bfc3-40d9-42eb-a98d-4d138b36828e",
   "metadata": {
    "tags": []
   },
   "outputs": [],
   "source": [
    "local_image_path = \"/home/ec2-user/SageMaker/00018.png\"\n",
    "s3_image_key = f\"temp/{os.path.basename(local_image_path)}\"\n",
    "search_face(collection_id, local_image_path, bucket_name, s3_image_key)"
   ]
  }
 ],
 "metadata": {
  "kernelspec": {
   "display_name": "conda_tensorflow2_p310",
   "language": "python",
   "name": "conda_tensorflow2_p310"
  },
  "language_info": {
   "codemirror_mode": {
    "name": "ipython",
    "version": 3
   },
   "file_extension": ".py",
   "mimetype": "text/x-python",
   "name": "python",
   "nbconvert_exporter": "python",
   "pygments_lexer": "ipython3",
   "version": "3.10.15"
  }
 },
 "nbformat": 4,
 "nbformat_minor": 5
}
